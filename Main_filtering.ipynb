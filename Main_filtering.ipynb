{
 "cells": [
  {
   "cell_type": "code",
   "execution_count": 1,
   "metadata": {},
   "outputs": [],
   "source": [
    "import time\n",
    "import os\n",
    "import openai\n",
    "import sys\n",
    "import requests\n",
    "from bs4 import BeautifulSoup\n",
    "import pandas as pd\n",
    "import PyPDF2\n",
    "from io import BytesIO"
   ]
  },
  {
   "cell_type": "code",
   "execution_count": 3,
   "metadata": {},
   "outputs": [],
   "source": [
    "#client = OpenAI()"
   ]
  },
  {
   "cell_type": "code",
   "execution_count": 4,
   "metadata": {},
   "outputs": [],
   "source": [
    "class LMFunction(object):\n",
    "    def __init__(self, engine='gpt-4', max_tokens=512):\n",
    "        self.engine = engine\n",
    "        self.max_tokens = max_tokens\n",
    "        self.client = openai.OpenAI(api_key=os.getenv(\"OPENAI_API_KEY\"))\n",
    "\n",
    "    def _call_api(self, prompt, engine, max_tokens, max_retries=10, retry_wait=2):\n",
    "        for i in range(max_retries):\n",
    "            try:\n",
    "                response = self.client.chat.completions.create(\n",
    "                    model=engine,\n",
    "                    messages=[\n",
    "                        {\"role\": \"system\", \"content\": \"You are a helpful assistant.\"},\n",
    "                        {\"role\": \"user\", \"content\": prompt}\n",
    "                    ],\n",
    "                    max_tokens=max_tokens,\n",
    "                    temperature=1.0\n",
    "                )\n",
    "                return response\n",
    "            except openai.APIError as e:  # New error handling\n",
    "                time.sleep(retry_wait)\n",
    "        return {'choices': [{'message': {'content': ''}}]}\n",
    "\n",
    "    def _parse_message(self, msg):\n",
    "        try:\n",
    "            content = msg.choices[0].message.content\n",
    "        except (IndexError, AttributeError):\n",
    "            content = ''\n",
    "        return content\n",
    "\n",
    "    def f(self, prompt, x):\n",
    "        msg = self._call_api(\n",
    "            prompt=prompt+x,\n",
    "            engine=self.engine,\n",
    "            max_tokens=self.max_tokens\n",
    "        )\n",
    "        evaluation = self._parse_message(msg)\n",
    "        return evaluation\n",
    "\n",
    "\n",
    "class Checker(object):\n",
    "    \"\"\"A modified version of the Draft, Sketch, Prove proof-checking client.\n",
    "    (https://github.com/albertqjiang/draft_sketch_prove/blob/main/autoformalization/checker.py)\n",
    "\n",
    "    This checker supports Isabelle2022 via the new version of PISA\n",
    "    (https://albertqjiang.github.io/Portal-to-ISAbelle/).\n",
    "\n",
    "    It supports checking a miniF2F-style proof via `check`.\n",
    "\n",
    "    Finally, it replaces `sledgehammer` with a call to `normalhammer`.\n",
    "    \"\"\"\n",
    "    def __init__(self, working_dir, isa_path, theory_file, port=9000):\n",
    "        sys.path.append(os.environ['PISA_PATH'])\n",
    "        try:\n",
    "            from pisa_client import initialise_env\n",
    "            self.initialise_env = initialise_env\n",
    "        except:\n",
    "            print(\"Set $PISA_PATH to /yourpath/to/Portal-to-ISAbelle/src/main/python\")\n",
    "\n",
    "        self.working_dir = working_dir\n",
    "        self.isa_path = isa_path\n",
    "        self.theory_file = theory_file\n",
    "        self.port = port\n",
    "\n",
    "    def _initialize(self):\n",
    "        env = self.initialise_env(\n",
    "            self.port,\n",
    "            isa_path=self.isa_path,\n",
    "            theory_file_path=self.theory_file,\n",
    "            working_directory=self.working_dir\n",
    "        )\n",
    "        return env\n",
    "\n",
    "    def _exit(self, env):\n",
    "        try:\n",
    "            env.post('exit')\n",
    "        except:\n",
    "            print(\"env.post('exit') timed out\")\n",
    "            pass\n",
    "        os.system(\"ps aux | grep Isabelle | awk '{print $2}' | xargs kill -9 > /dev/null 2>&1\")\n",
    "        os.system(\"ps aux | grep poly | awk '{print $2}' | xargs kill -9 > /dev/null 2>&1\")\n",
    "\n",
    "    def _parse_output(self, obs):\n",
    "        \"\"\"Parse the sledgehammer output, otherwise return an empty string\"\"\"\n",
    "        if '<hammer>' in obs:\n",
    "            output = obs.split('<hammer>')[0]\n",
    "        else:\n",
    "            output = ''\n",
    "        return output\n",
    "\n",
    "    def _run_step(self, step, i, tls_name, env):\n",
    "        obs, reward, done, metadata = env.step_to_top_level_state(\n",
    "            action=step,\n",
    "            tls_name=tls_name,\n",
    "            new_name='default_%d' % i\n",
    "        )\n",
    "        error = None\n",
    "        if 'error:' in obs or 'Step error' in obs or 'Unknown error' in obs:\n",
    "            error = obs\n",
    "        return obs, reward, done, metadata, error\n",
    "\n",
    "    def _run_sledgehammer(self, step, i, tls_name, env):\n",
    "        # First try heuristics\n",
    "        for heuristic in ['by auto', 'by simp', 'by blast', 'by fastforce', 'by force', 'by eval', 'by presburger', 'by sos', 'by arith', 'by linarith', 'by (auto simp: field_simps)']:\n",
    "            step_ = step.replace('normalhammer', heuristic)\n",
    "            obs, reward, done, metadata, error = self._run_step(step_, i, tls_name, env)\n",
    "            if error is None:\n",
    "                obs = '%s <hammer> %s' % (heuristic, obs)\n",
    "                return obs, reward, done, metadata, error\n",
    "        # Try sledgehammer\n",
    "        out = self._run_step(step, i, tls_name, env)\n",
    "        return out\n",
    "\n",
    "    def check(self, statement_and_proof):\n",
    "        # Initialize environment\n",
    "        env = self._initialize()\n",
    "        env.initialise()\n",
    "\n",
    "        # Wrap and parse theorem\n",
    "        theory = Checker.wrap_theorem(statement_and_proof)\n",
    "        steps = Checker.get_parsed(env, theory)\n",
    "\n",
    "        result = self._check(env, steps)\n",
    "        return result\n",
    "\n",
    "    def _check(self, env, steps):\n",
    "        done = False\n",
    "        reason = ''\n",
    "        success = False\n",
    "        step_results = []\n",
    "        tls_name = 'default'\n",
    "        for i, step in enumerate(steps):\n",
    "            try:\n",
    "                time0 = time.time()\n",
    "                if 'normalhammer' in step:\n",
    "                    obs, reward, done, metadata, error = self._run_sledgehammer(step, i, tls_name, env)\n",
    "                else:\n",
    "                    obs, reward, done, metadata, error = self._run_step(step, i, tls_name, env)\n",
    "                step_time = time.time() - time0\n",
    "                step_results.append(dict(index=i, step=step, output=self._parse_output(obs), step_time=step_time))\n",
    "                if error is not None:\n",
    "                    reason = error\n",
    "                    success = False\n",
    "                    done = False\n",
    "                    break\n",
    "            except:\n",
    "                # Timeout - end the proof attempt\n",
    "                success = False\n",
    "                done = False\n",
    "                reason = 'timeout (%d)' % len(step_results)\n",
    "                step_results.append(dict(index=i, step=step, output=''))\n",
    "                break\n",
    "\n",
    "            # Change when successful\n",
    "            tls_name = 'default_%d' % i\n",
    "\n",
    "        if done and reward == 1.0:\n",
    "            success = True\n",
    "\n",
    "        result = {\n",
    "            'success': success,\n",
    "            'reason': reason,\n",
    "            'num_steps': len(steps),\n",
    "            'last_step': len(step_results),\n",
    "            'step_results': step_results,\n",
    "            'theorem_and_proof': self.reconstruct(step_results) if success else ''\n",
    "        }\n",
    "        # Exit environment\n",
    "        self._exit(env)\n",
    "        return result\n",
    "    \n",
    "    @staticmethod\n",
    "    def reconstruct(step_results):\n",
    "        steps = []\n",
    "        for step_result in step_results[1:]:\n",
    "            if step_result['output'] != '':\n",
    "                steps.append(step_result['output'].strip())\n",
    "            else:\n",
    "                steps.append(step_result['step'].strip())\n",
    "        theorem_and_proof = '\\n'.join(steps)\n",
    "        return theorem_and_proof\n",
    "\n",
    "    @staticmethod\n",
    "    def wrap_theorem(theorem):\n",
    "        return 'theory Interactive imports HOL.HOL Complex_Main \"HOL-Library.Code_Target_Numeral\" \"HOL-Library.Sum_of_Squares\" \"Symmetric_Polynomials.Vieta\" \"HOL-Computational_Algebra.Computational_Algebra\" \"HOL-Number_Theory.Number_Theory\" \\n begin\\n%s' % theorem\n",
    "\n",
    "    @staticmethod\n",
    "    def get_parsed(env, theory, tls_name='default'):\n",
    "        # HACK: the parsing doesn't work well with `normalhammer`, so we replace\n",
    "        # all hammer calls with sorry, then replace sorry to normalhammer after parsing.\n",
    "        theory = theory.replace('sledgehammer', 'sorry')\n",
    "        theory = theory.replace('normalhammer', 'sorry')\n",
    "\n",
    "        steps = env.post(f\"<parse text> ${theory}\")\n",
    "        steps = steps.split('<SEP>')\n",
    "        steps = [s for s in steps if s.strip() != '']\n",
    "        # remove weird '$' step and whitespace steps\n",
    "        steps = [s for s in steps if s != '$' and s.strip() != '']\n",
    "        steps = [s.replace('sorry', 'normalhammer') for s in steps]\n",
    "        return steps\n"
   ]
  },
  {
   "cell_type": "code",
   "execution_count": 5,
   "metadata": {},
   "outputs": [],
   "source": [
    "import sys\n",
    "import os\n",
    "sys.path.append('../')\n",
    "os.environ['PISA_PATH'] = '/home/balaji/Desktop/Theorem_Proving/Portal-to-ISAbelle/src/main/python'\n",
    "\n",
    "checker = Checker(\n",
    "    working_dir='/home/balaji/Desktop/Theorem_Proving/Isabelle2022/src/HOL/Examples',\n",
    "    isa_path='/home/balaji/Desktop/Theorem_Proving/Isabelle2022',\n",
    "    theory_file='/home/balaji/Desktop/Theorem_Proving/Isabelle2022/src/HOL/Examples/Interactive.thy',\n",
    "    port=9000\n",
    ")"
   ]
  },
  {
   "cell_type": "code",
   "execution_count": 6,
   "metadata": {},
   "outputs": [
    {
     "name": "stdout",
     "output_type": "stream",
     "text": [
      "\n",
      "==== Success: False\n",
      "--- Complete proof:\n",
      "\n"
     ]
    }
   ],
   "source": [
    "theorem_and_sledgehammer_proof = \"\"\"\n",
    "\n",
    "locale graph = fixes G :: \"'a list\" (* G is a list of edges, where each edge is a pair of vertices *) fixes tail :: \"'a ⇒ 'b\" (* Function to get the tail of an edge *) fixes head :: \"'a ⇒ 'b\" (* Function to get the head of an edge *) assumes non_empty_path: \"length p > 0\" assumes u_tail: \"u = tail (hd p)\" assumes v_head: \"v = head (last p)\" assumes path_continuity: \"∀i. Suc i < length p ⟶ head (G ! i) = tail (G ! (i + 1))\" definition directed_path :: \"'b ⇒ 'b ⇒ 'a list ⇒ bool\" where \"directed_path u v p ⟷ (∃path. path ≠ [] ∧ hd path = u ∧ last path = v ∧ (∀i. Suc i < length path ⟶ head (path ! i) = tail (path ! (i + 1))))\" lemma (in graph) directed_path_exists: assumes \"p ≠ []\" \"u = tail (hd p)\" \"v = head (last p)\" \"∀i. Suc i < length p ⟶ head (G ! i) = tail (G ! (i + 1))\" shows \"directed_path u v p\" proof - have \"∃path. path = p ∧ path ≠ [] ∧ hd path = u ∧ last path = v ∧ (∀i. Suc i < length path ⟶ head (path ! i) = tail (path ! (i + 1)))\" proof show \"p = p\" by simp show \"p ≠ []\" using assms(1) by simp show \"hd p = u\" using assms(2) by simp show \"last p = v\" using assms(3) by simp show \"∀i. Suc i < length p ⟶ head (G ! i) = tail (G ! (i + 1))\" using assms(4) by simp qed thus ?thesis using directed_path_def by auto qed\n",
    "\"\"\"\n",
    "\n",
    "result = checker.check(theorem_and_sledgehammer_proof)\n",
    "\n",
    "print(\"\\n==== Success: %s\" % result['success'])\n",
    "print(\"--- Complete proof:\\n%s\" % result['theorem_and_proof'])\n",
    "\n"
   ]
  },
  {
   "cell_type": "code",
   "execution_count": null,
   "metadata": {},
   "outputs": [
    {
     "data": {
      "application/vnd.jupyter.widget-view+json": {
       "model_id": "ed95738a664d427ca5afc2f5da8847ba",
       "version_major": 2,
       "version_minor": 0
      },
      "text/plain": [
       "README.md:   0%|          | 0.00/630 [00:00<?, ?B/s]"
      ]
     },
     "metadata": {},
     "output_type": "display_data"
    },
    {
     "data": {
      "application/vnd.jupyter.widget-view+json": {
       "model_id": "2b1663e4631a4d0aa840a163382d7504",
       "version_major": 2,
       "version_minor": 0
      },
      "text/plain": [
       "train-00000-of-00002.parquet:   0%|          | 0.00/11.0M [00:00<?, ?B/s]"
      ]
     },
     "metadata": {},
     "output_type": "display_data"
    },
    {
     "data": {
      "application/vnd.jupyter.widget-view+json": {
       "model_id": "f8ea3104783b48d683c046b14d104bed",
       "version_major": 2,
       "version_minor": 0
      },
      "text/plain": [
       "train-00001-of-00002.parquet:   0%|          | 0.00/52.7M [00:00<?, ?B/s]"
      ]
     },
     "metadata": {},
     "output_type": "display_data"
    },
    {
     "data": {
      "application/vnd.jupyter.widget-view+json": {
       "model_id": "ca098a05fbd94acb925a1c40ce588c32",
       "version_major": 2,
       "version_minor": 0
      },
      "text/plain": [
       "Generating train split:   0%|          | 0/26192 [00:00<?, ? examples/s]"
      ]
     },
     "metadata": {},
     "output_type": "display_data"
    },
    {
     "name": "stderr",
     "output_type": "stream",
     "text": [
      "Processing proofs:   0%|                  | 18/26192 [01:21<34:37:21,  4.76s/it]"
     ]
    }
   ],
   "source": [
    "from datasets import load_dataset\n",
    "import pandas as pd\n",
    "from tqdm import tqdm \n",
    "\n",
    "ds = load_dataset(\"kings-crown/FVELER_Isabelle\")\n",
    "df = pd.DataFrame(ds[\"train\"]) \n",
    "\n",
    "if \"proof\" not in df.columns:\n",
    "    raise ValueError(\"Column 'proof' not found in the dataset\")\n",
    "\n",
    "\n",
    "def check_proof(proof):\n",
    "    result = checker.check(proof)  \n",
    "    return result.get(\"success\", False)  \n",
    "\n",
    "tqdm.pandas(desc=\"Processing proofs\")  # Initialize tqdm for Pandas\n",
    "df[\"success\"] = df[\"proof\"].progress_apply(check_proof)\n",
    "updated_ds = ds[\"train\"].add_column(\"success\", df[\"success\"].tolist())\n",
    "\n",
    "updated_ds.to_csv(\"successful_dataset.csv\")\n",
    "\n",
    "print(\"Processing complete.\")\n"
   ]
  },
  {
   "cell_type": "code",
   "execution_count": 7,
   "metadata": {},
   "outputs": [
    {
     "name": "stdout",
     "output_type": "stream",
     "text": [
      "\n",
      "==== Success: True\n",
      "--- Complete proof:\n",
      "lemma sbintrunc_Suc_numeral: \"(signed_take_bit :: nat \\<Rightarrow> int \\<Rightarrow> int) (Suc n) 1 = 1\" \"(signed_take_bit :: nat \\<Rightarrow> int \\<Rightarrow> int) (Suc n) (numeral (Num.Bit0 w)) = 2 * (signed_take_bit :: nat \\<Rightarrow> int \\<Rightarrow> int) n (numeral w)\" \"(signed_take_bit :: nat \\<Rightarrow> int \\<Rightarrow> int) (Suc n) (numeral (Num.Bit1 w)) = 1 + 2 * (signed_take_bit :: nat \\<Rightarrow> int \\<Rightarrow> int) n (numeral w)\" \"(signed_take_bit :: nat \\<Rightarrow> int \\<Rightarrow> int) (Suc n) (- numeral (Num.Bit0 w)) = 2 * (signed_take_bit :: nat \\<Rightarrow> int \\<Rightarrow> int) n (- numeral w)\" \"(signed_take_bit :: nat \\<Rightarrow> int \\<Rightarrow> int) (Suc n) (- numeral (Num.Bit1 w)) = 1 + 2 * (signed_take_bit :: nat \\<Rightarrow> int \\<Rightarrow> int) n (- numeral (w + Num.One))\"\n",
      "by (simp_all add: signed_take_bit_Suc)\n"
     ]
    }
   ],
   "source": [
    "theorem_and_sledgehammer_proof = \"\"\"\n",
    "\n",
    "lemma sbintrunc_Suc_numeral: \"(signed_take_bit :: nat \\<Rightarrow> int \\<Rightarrow> int) (Suc n) 1 = 1\" \"(signed_take_bit :: nat \\<Rightarrow> int \\<Rightarrow> int) (Suc n) (numeral (Num.Bit0 w)) = 2 * (signed_take_bit :: nat \\<Rightarrow> int \\<Rightarrow> int) n (numeral w)\" \"(signed_take_bit :: nat \\<Rightarrow> int \\<Rightarrow> int) (Suc n) (numeral (Num.Bit1 w)) = 1 + 2 * (signed_take_bit :: nat \\<Rightarrow> int \\<Rightarrow> int) n (numeral w)\" \"(signed_take_bit :: nat \\<Rightarrow> int \\<Rightarrow> int) (Suc n) (- numeral (Num.Bit0 w)) = 2 * (signed_take_bit :: nat \\<Rightarrow> int \\<Rightarrow> int) n (- numeral w)\" \"(signed_take_bit :: nat \\<Rightarrow> int \\<Rightarrow> int) (Suc n) (- numeral (Num.Bit1 w)) = 1 + 2 * (signed_take_bit :: nat \\<Rightarrow> int \\<Rightarrow> int) n (- numeral (w + Num.One))\" by (simp_all add: signed_take_bit_Suc)\n",
    "\"\"\"\n",
    "\n",
    "result = checker.check(theorem_and_sledgehammer_proof)\n",
    "\n",
    "print(\"\\n==== Success: %s\" % result['success'])\n",
    "print(\"--- Complete proof:\\n%s\" % result['theorem_and_proof'])\n"
   ]
  },
  {
   "cell_type": "code",
   "execution_count": null,
   "metadata": {},
   "outputs": [],
   "source": []
  },
  {
   "cell_type": "code",
   "execution_count": 9,
   "metadata": {},
   "outputs": [
    {
     "name": "stdout",
     "output_type": "stream",
     "text": [
      "\n",
      "==== Success: False\n",
      "--- Complete proof:\n",
      "\n"
     ]
    }
   ],
   "source": [
    "theorem_and_sledgehammer_proof = \"\"\"\n",
    "\n",
    "lemma always_weakly_fair: shows \"⟦ weakly_fair enabled taken ⟧\" proof - (* Use sledgehammer to find a proof strategy *) have \"⟦ weakly_fair enabled taken ⟧\" by sledgehammer thus ?thesis by simp qed\n",
    "\n",
    "\"\"\"\n",
    "\n",
    "result = checker.check(theorem_and_sledgehammer_proof)\n",
    "\n",
    "print(\"\\n==== Success: %s\" % result['success'])\n",
    "print(\"--- Complete proof:\\n%s\" % result['theorem_and_proof'])"
   ]
  },
  {
   "cell_type": "code",
   "execution_count": null,
   "metadata": {},
   "outputs": [],
   "source": [
    "import json\n",
    "examples = [\n",
    "    {\"tag\": \"aimeI_2000_p7\", \"category\": \"algebra\", \"metadata\": {}, \"prompt\": \"Informal:\\n(*### Problem\\n\\nSuppose that $x,$ $y,$ and $z$ are three positive numbers that satisfy the equations $xyz = 1,$ $x + \\\\frac {1}{z} = 5,$ and $y + \\\\frac {1}{x} = 29.$ Then $z + \\\\frac {1}{y} = \\\\frac {m}{n},$ where $m$ and $n$ are [[relatively prime]] positive integers. Find $m + n$. Show that it is 5.\\n\\n\\nnote: this is the type of problem that makes you think symmetry, but actually can be solved easily with substitution, and other normal technniques\\n\\n### Solution\\n\\nWe can rewrite $xyz=1$ as $\\\\frac{1}{z}=xy$.\\n\\nSubstituting into one of the given equations, we have \\n$x+xy=5$\\n$x(1+y)=5$\\n$\\\\frac{1}{x}=\\\\frac{1+y}{5}.$\\n\\nWe can substitute back into $y+\\\\frac{1}{x}=29$ to obtain\\n$y+\\\\frac{1+y}{5}=29$\\n$5y+1+y=145$\\n$y=24.$\\n\\nWe can then substitute once again to get\\n$x=\\\\frac15$\\n$z=\\\\frac{5}{24}.$\\nThus, $z+\\\\frac1y=\\\\frac{5}{24}+\\\\frac{1}{24}=\\\\frac{1}{4}$, so $m+n=005$.*)\\n\\nFormal:\\ntheorem\\n  fixes x y z :: real\\n    and p :: rat\\n  assumes \\\"0 < x \\\\<and> 0 < y \\\\<and> 0 < z\\\"\\n    and \\\"x * y * z = 1\\\"\\n    and \\\"x + 1 / z = 5\\\"\\n    and \\\"y + 1 / x = 29\\\"\\n    and \\\"z + 1 / y = p\\\"\\n    and \\\"0 < p\\\" \\n  shows \\\"let (m,n) = quotient_of p in m + n = 5\\\"\\nproof -\\n  (* We can rewrite $xyz=1$ as $\\\\frac{1}{z}=xy$. *)\\n  have c0: \\\"z = 1 / (x*y)\\\"\\n    sledgehammer\\n  (* Substituting into one of the given equations, we have \\n  $x+xy=5$\\n  $x(1+y)=5$\\n  $\\\\frac{1}{x}=\\\\frac{1+y}{5}.$ *)\\n  have c1: \\\"1 / x = (1+y) / 5\\\" \\n  proof -\\n    have \\\"x + x * y = 5\\\" using assms(3) unfolding c0\\n      sledgehammer\\n    then have \\\"x * (1 + y) = 5\\\"\\n      sledgehammer\\n    then have t1: \\\"x = 5 / (1+y)\\\"\\n      sledgehammer\\n    then show ?thesis\\n      sledgehammer\\n  qed\\n  (* We can substitute back into $y+\\\\frac{1}{x}=29$ to obtain\\n  $y+\\\\frac{1+y}{5}=29$\\n  $5y+1+y=145$\\n  $y=24.$ *)\\n  have \\\"y + (1+y)/5 = 29\\\" using assms(4) unfolding c1 sledgehammer\\n  then have \\\"5* (y + (1+y)/5) = 5 * 29\\\" sledgehammer\\n  also have \\\"... = 145\\\" sledgehammer\\n  finally have c2_1: \\\"5* (y + (1+y)/5) = 145\\\" sledgehammer\\n  have \\\"5* (y + (1+y)/5) = 5*y + (1+y)\\\" sledgehammer\\n  also have \\\"... = 6*y + 1\\\" sledgehammer\\n  finally have c2_2: \\\"5* (y + (1+y)/5) = 6*y + 1\\\" sledgehammer\\n  have \\\"6*y + 1 = 145\\\" using c2_1 c2_2 sledgehammer\\n  then have c2: \\\"y = 24\\\" sledgehammer\\n  (* We can then substitute once again to get\\n  $x=\\\\frac15$\\n  $z=\\\\frac{5}{24}.$ *)\\n  have \\\"1/x = 5\\\" using c1 unfolding c2 sledgehammer\\n  then have c3: \\\"x = 1/5\\\"\\n    sledgehammer\\n  then have c4: \\\"z = 5/24\\\"\\n    sledgehammer\\n  (* Thus, $z+\\\\frac1y=\\\\frac{5}{24}+\\\\frac{1}{24}=\\\\frac{1}{4}$, so $m+n=005$. *)\\n  have \\\"p = z + 1/y\\\" using assms(5) sledgehammer\\n  also have \\\"... = 5/24 + 1/24\\\" unfolding c2 c4 sledgehammer\\n  also have \\\"... = 1/4\\\" sledgehammer\\n  finally have c5: \\\"p = 1/4\\\"\\n    sledgehammer\\n  have \\\"quotient_of p = (1, 4)\\\" unfolding c5 sledgehammer\\n  then show ?thesis sledgehammer\\nqed\"},\n",
    "    {\"tag\": \"algebra_2rootsintpoly_am10tap11eqasqpam110\", \"category\": \"algebra\", \"metadata\": {}, \"prompt\": \"Informal:\\n(*### Problem\\n\\nShow that for any complex number a, $(a-10)(a+11) = a^2 + a - 110$.\\n\\n### Solution\\n\\nWe first expand all terms of the left hand side to get $a^2 - 10a + 11a - 10*11$.\\nThis equals $a^2 + a - 10*11 = a^2 + a - 110$.*)\\n\\nFormal:\\ntheorem\\n  fixes a :: complex\\n  shows \\\"(a-10) * (a+11) = a^2 + a -110\\\"\\nproof -\\n  (* We first expand all terms of the left hand side to get $a^2 - 10a + 11a - 10*11$. *)\\n  have \\\"(a-10) * (a+11) = a^2 - 10*a + 11*a - 10 *11\\\"\\n    sledgehammer\\n  (* This equals $a^2 + a - 10*11 = a^2 + a - 110$. *)\\n  also have \\\"\\\\<dots> = a^2 + a - 10 * 11\\\"\\n    sledgehammer\\n  also have \\\"\\\\<dots> = a^2 + a - 110\\\"\\n    sledgehammer\\n  finally show ?thesis\\n    sledgehammer\\nqed\"},\n",
    "    {\"tag\": \"mathd_numbertheory_335\", \"category\": \"number_theory\", \"metadata\": {}, \"prompt\": \"Informal:\\n(*### Problem\\n\\nWhen Rachel divides her favorite number by 7, she gets a remainder of 5. What will the remainder be if she multiplies her favorite number by 5 and then divides by 7? Show that it is 4.\\n\\n### Solution\\n\\nLet $n$ be Rachel's favorite number. \\nThen $n \\\\equiv 5 \\\\pmod{7}$, so $5n \\\\equiv 5 \\\\cdot 5 \\\\equiv 25 \\\\equiv 4 \\\\pmod{7}$.\\n*)\\n\\nFormal:\\ntheorem\\n  fixes n :: nat\\n  assumes h0 : \\\"n mod 7 = 5\\\"\\n  shows \\\"(5 * n) mod 7 = 4\\\"\\nproof -\\n  (* Then $n \\\\equiv 5 \\\\pmod{7}$, so $5n \\\\equiv 5 \\\\cdot 5 \\\\equiv 25 \\\\equiv 4 \\\\pmod{7}$. *)\\n  have c0:\\\"(5 * n) mod 7 = (5 * 5) mod 7\\\" using h0\\n    sledgehammer\\n  then have \\\"\\\\<dots> = 4\\\" sledgehammer\\n  then have \\\"(5 * n) mod 7 = 4\\\" using c0 sledgehammer\\n  then show ?thesis sledgehammer\\nqed\"}\n",
    "]"
   ]
  },
  {
   "cell_type": "code",
   "execution_count": null,
   "metadata": {},
   "outputs": [],
   "source": [
    "prompt = \"\"\"Draft an informal solution similar to below. \n",
    "The informal solution will be used to sketch a formal Isabelle proof.\n",
    "Here are some examples:\n",
    "\"\"\"\n",
    "for x in examples:\n",
    "    prompt += (\"Example:\\n\" + x['prompt'][:x['prompt'].find('Formal:')] + \"\\n\\n\")\n",
    "prompt += \"\"\"Informal:\n",
    "(*### Problem\n",
    "\n",
    "\"\"\"\n",
    "\n",
    "print(prompt)"
   ]
  },
  {
   "cell_type": "code",
   "execution_count": null,
   "metadata": {},
   "outputs": [],
   "source": [
    "p = LMFunction('gpt-4o')\n",
    "xi = 'Statement in natural language: The lemma named \"always_weakly_fair\" shows that \"weakly_fair enabled taken\" is always true.'\n",
    "yi = p.f(prompt, xi)\n",
    "print(yi)"
   ]
  },
  {
   "cell_type": "code",
   "execution_count": null,
   "metadata": {},
   "outputs": [],
   "source": [
    "prompt = \"\"\"Translate the informal solution into a sketch of the\n",
    "formal Isabelle proof. Add `sledgehammer` in the sketch whenever\n",
    "possible. `sledgehammer` will be used to call the automated Sledgehammer prover. \n",
    "\"\"\"\n",
    "for x in examples:\n",
    "    prompt += (x['prompt'] + \"\\n\\n\")\n",
    "prompt += \"\"\"Informal:\n",
    "(*### Problem\n",
    "\n",
    "\"\"\"\n",
    "\n",
    "zi = p.f(prompt, xi + '\\n\\n' + yi )\n",
    "print(zi)\n",
    "\n",
    "\n",
    "\n",
    "\n",
    "\n"
   ]
  },
  {
   "cell_type": "code",
   "execution_count": null,
   "metadata": {},
   "outputs": [],
   "source": [
    "theorem_and_sledgehammer_proof = \"\"\"\n",
    "lemma always_weakly_fair:\n",
    "  assumes wf: \"weakly_fair (enabled taken)\"\n",
    "  shows \"always (\\<lambda>s. enabled taken s \\<longrightarrow> eventually (\\<lambda>s. taken s) s)\"\n",
    "proof -\n",
    "  (* 1. Start by recalling the definition of \"weakly_fair\": *)\n",
    "  have wf_def: \"weakly_fair P \\<longleftrightarrow> (\\<forall>s. (\\<forall>t. eventually P t) \\<longrightarrow> eventually Q t)\"\n",
    "    sorry  (* Replace with actual definition in your context *)\n",
    "\n",
    "  (* 2. Understand when \"enabled\" conditions apply: *)\n",
    "  have enabled_def: \"enabled a = {s. s enables a}\"\n",
    "    sorry  (* Replace with actual definition in your context *)\n",
    "\n",
    "  (* 3. \"always_weakly_fair\" means whenever \"enabled\" holds, \"taken\" must eventually occur *)\n",
    "  {\n",
    "    fix s\n",
    "    assume \"enabled taken s\"\n",
    "\n",
    "    (* 4-5. Suppose \"enabled\" is met infinitely often, \"weakly_fair\" implies \"taken\" follows *)\n",
    "    have evt_taken: \"\\<forall>t. eventually (enabled taken) t \\<longrightarrow> eventually (taken) t\"\n",
    "      using wf wf_def by blast  (* Using the assumption of weakly fair *)\n",
    "\n",
    "    hence \"eventually (taken) s\" using evt_taken `enabled taken s` by blast\n",
    "  }\n",
    "  hence \"\\<forall>s. enabled taken s \\<longrightarrow> eventually taken s\" by blast\n",
    "\n",
    "  (* 6. Thus, \"always\" condition holds *)\n",
    "  thus ?thesis using eventually_def by auto\n",
    "qed\n",
    "\"\"\"\n",
    "\n",
    "result = checker.check(theorem_and_sledgehammer_proof)\n",
    "\n",
    "print(\"\\n==== Success: %s\" % result['success'])\n",
    "print(\"--- Complete proof:\\n%s\" % result['theorem_and_proof'])"
   ]
  },
  {
   "cell_type": "code",
   "execution_count": 13,
   "metadata": {},
   "outputs": [
    {
     "name": "stdout",
     "output_type": "stream",
     "text": [
      "\n",
      "==== Success: True\n",
      "--- Complete proof:\n",
      "theorem\n",
      "  fixes x :: int\n",
      "  assumes h0: \"even x\"\n",
      "  shows \"odd (x + 5)\"\n",
      "proof -\n",
      "(* We start by recalling the definition of an even number: a number is even if it can be expressed as \\( x = 2k \\), where \\( k \\) is an integer. \n",
      "     Given that \\( x \\) is even, we can write \\( x = 2k \\). *)\n",
      "obtain k where x_def: \"x = 2 * k\"\n",
      "using h0\n",
      "by auto\n",
      "(* To find \\( x+5 \\), we substitute for \\( x \\): \\( x + 5 = 2k + 5. \\) *)\n",
      "have \"x + 5 = 2 * k + 5\"\n",
      "by (simp add: x_def)\n",
      "(* Now, let's consider the parity (evenness or oddness) of \\( x+5 \\). We can rewrite \\( x+5 \\) as \\( x + 5 = 2k + 5 = 2k + 4 + 1 = 2(k + 2) + 1. \\) *)\n",
      "have \"(2 * k + 5) = 2 * (k + 2) + 1\"\n",
      "by auto\n",
      "(* Since \\( 2(k + 2) \\) is clearly even, adding 1 makes the entire expression \\( 2(k + 2) + 1 \\) odd. *)\n",
      "have \"odd (2 * (k + 2) + 1)\"\n",
      "by simp\n",
      "(* Finally, since the expression is odd, we conclude that if \\( x \\) is even, then \\( x + 5 \\) is odd. *)\n",
      "then\n",
      "show ?thesis\n",
      "by (simp add: x_def)\n",
      "qed\n"
     ]
    }
   ],
   "source": [
    "theorem_and_sledgehammer_proof = \"\"\"\n",
    "theorem\n",
    "  fixes x :: int\n",
    "  assumes h0: \"even x\"\n",
    "  shows \"odd (x + 5)\"\n",
    "proof -\n",
    "  (* We start by recalling the definition of an even number: a number is even if it can be expressed as \\( x = 2k \\), where \\( k \\) is an integer. \n",
    "     Given that \\( x \\) is even, we can write \\( x = 2k \\). *)\n",
    "  obtain k where x_def: \"x = 2 * k\"\n",
    "    using h0 by auto\n",
    "  (* To find \\( x+5 \\), we substitute for \\( x \\): \\( x + 5 = 2k + 5. \\) *)\n",
    "  have \"x + 5 = 2 * k + 5\"\n",
    "    by (simp add: x_def)\n",
    "  (* Now, let's consider the parity (evenness or oddness) of \\( x+5 \\). We can rewrite \\( x+5 \\) as \\( x + 5 = 2k + 5 = 2k + 4 + 1 = 2(k + 2) + 1. \\) *)\n",
    "  have \"(2 * k + 5) = 2 * (k + 2) + 1\"\n",
    "    by auto\n",
    "  (* Since \\( 2(k + 2) \\) is clearly even, adding 1 makes the entire expression \\( 2(k + 2) + 1 \\) odd. *)\n",
    "  have \"odd (2 * (k + 2) + 1)\"\n",
    "    by simp\n",
    "  (* Finally, since the expression is odd, we conclude that if \\( x \\) is even, then \\( x + 5 \\) is odd. *)\n",
    "  then show ?thesis\n",
    "    by (simp add: x_def)\n",
    "qed\n",
    "\"\"\"\n",
    "\n",
    "result = checker.check(theorem_and_sledgehammer_proof)\n",
    "\n",
    "print(\"\\n==== Success: %s\" % result['success'])\n",
    "print(\"--- Complete proof:\\n%s\" % result['theorem_and_proof'])"
   ]
  },
  {
   "cell_type": "code",
   "execution_count": null,
   "metadata": {},
   "outputs": [],
   "source": []
  },
  {
   "cell_type": "code",
   "execution_count": null,
   "metadata": {},
   "outputs": [],
   "source": []
  }
 ],
 "metadata": {
  "kernelspec": {
   "display_name": "Python 3 (ipykernel)",
   "language": "python",
   "name": "python3"
  },
  "language_info": {
   "codemirror_mode": {
    "name": "ipython",
    "version": 3
   },
   "file_extension": ".py",
   "mimetype": "text/x-python",
   "name": "python",
   "nbconvert_exporter": "python",
   "pygments_lexer": "ipython3",
   "version": "3.9.5"
  }
 },
 "nbformat": 4,
 "nbformat_minor": 4
}
